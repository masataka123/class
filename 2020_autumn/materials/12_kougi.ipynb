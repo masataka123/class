{
 "cells": [
  {
   "cell_type": "markdown",
   "metadata": {},
   "source": [
    "## 円周率πをプログラミングで計算してみる\n",
    "\n",
    "概ね4つの方法がある.\n",
    "\n",
    "- ウォリスの公式　\n",
    "$$\n",
    "\\frac{\\pi}{2} =\n",
    "\\frac{2 \\cdot 2}{1 \\cdot 3} \\cdot \\frac{4 \\cdot 4}{3 \\cdot 5} \n",
    "\\cdot \\frac{6 \\cdot 6}{5 \\cdot 7}\\cdot \\frac{8 \\cdot 8}{7 \\cdot 9}\n",
    " \\cdots\n",
    "$$\n",
    "\n",
    "- テイラー展開\n",
    "$$\n",
    "\\frac{\\pi}{4} =1-\\frac{1}{3}+\\frac{1}{5}- \\frac{1}{7}+ \\frac{1}{9}\\cdots\n",
    "$$\n",
    "\n",
    "- モンテカルロ法 半径1の円に点をばらまく\n",
    "\n",
    "- マチンの公式\n",
    "$$\n",
    "\\frac{\\pi}{4} =4 \\arctan\\frac{1}{5} - \\arctan\\frac{1}{239}\n",
    "$$\n",
    "\n",
    "ここで$\\arctan x$はtangentの逆関数で, テイラー展開は\n",
    "$$\\arctan x = \\sum_{n=0}^{\\infty} (-1)^{n}\\frac{x^{2n+1}}{2n+1}\n",
    "= x-\\frac{x^3}{3}+\\frac{x^5}{5}- \\frac{x^7}{7}+ \\frac{x^9}{9}\\cdots$$\n",
    "\n",
    "これらの誤差を見てみる.(制限時間を同じ感じにする)"
   ]
  },
  {
   "cell_type": "code",
   "execution_count": 5,
   "metadata": {},
   "outputs": [],
   "source": [
    "import time, random, math"
   ]
  },
  {
   "cell_type": "code",
   "execution_count": 15,
   "metadata": {},
   "outputs": [
    {
     "name": "stdout",
     "output_type": "stream",
     "text": [
      "1 秒の間, 試行回数は 1094106 回で,ウォリスの公式での誤差は 0.00000071784431643351\n",
      "1 秒の間, 試行回数は 1191441 回で,テイラー展開での誤差は 0.00000083931979899532\n",
      "1 秒の間, 試行回数は 955529 回で,モンテカルロ法での誤差は 0.00012860592614272193\n",
      "1 秒の間, 試行回数は 4294 回で,マチンの公式での誤差は 0.00000000000000088818\n",
      "ウォリスの公式での値 3.1415919357454767\n",
      "テイラー展開での値 3.141593492909592\n",
      "モンテカルロ法の値 3.1414640476636504\n",
      "マチンの公式での値 3.141592653589794\n"
     ]
    }
   ],
   "source": [
    "N=10**10\n",
    "wal=1\n",
    "T=1\n",
    "t=time.time()\n",
    "for i in range(1,N):\n",
    "    wal*=(4*i*i)/((2*i+1)*(2*i-1))\n",
    "    s=time.time()\n",
    "    if abs(s-t)>T:\n",
    "        break\n",
    "\n",
    "tay=0\n",
    "t=time.time()\n",
    "for j in range(1,N):\n",
    "    tay+=((-1)**(j+1))/(2*j-1)\n",
    "    s=time.time()\n",
    "    if abs(s-t)>T:\n",
    "        break\n",
    "\n",
    "count,num=0,0\n",
    "t=time.time()\n",
    "for k in range(1,N):\n",
    "    x,y=random.random(),random.random()\n",
    "    num+=1\n",
    "    if x**2+y**2<=1:\n",
    "        count+=1\n",
    "    s=time.time()\n",
    "    if abs(s-t)>T:\n",
    "        break\n",
    "        \n",
    "N=10**10\n",
    "matin=0\n",
    "t=time.time()\n",
    "for n in range(N):\n",
    "    matin+=4*((-1)**n)/((5**(2*n+1))*(2*n+1))\n",
    "    matin-=((-1)**n)/((239**(2*n+1))*(2*n+1))\n",
    "    s=time.time()\n",
    "    if abs(s-t)>T:\n",
    "        break\n",
    "        \n",
    "print(T,'秒の間, 試行回数は',i,'回で,ウォリスの公式での誤差は',f'{abs(math.pi-2*wal):.020f}')\n",
    "print(T,'秒の間, 試行回数は',j,'回で,テイラー展開での誤差は',f'{abs(math.pi-4*tay):.020f}')\n",
    "print(T,'秒の間, 試行回数は',k,'回で,モンテカルロ法での誤差は',f'{abs(math.pi-(4*count)/num):.020f}')\n",
    "print(T,'秒の間, 試行回数は',n,'回で,マチンの公式での誤差は',f'{abs(math.pi-4*matin):.020f}')\n",
    "print(\"ウォリスの公式での値\",2*wal)\n",
    "print(\"テイラー展開での値\",4*tay)\n",
    "print(\"モンテカルロ法の値\",(4*count)/num)\n",
    "print(\"マチンの公式での値\",4*matin)  "
   ]
  },
  {
   "cell_type": "code",
   "execution_count": 16,
   "metadata": {},
   "outputs": [
    {
     "name": "stdout",
     "output_type": "stream",
     "text": [
      "2 秒の間, 試行回数は 2371619 回で,ウォリスの公式での誤差は 0.00000033116461084504\n",
      "2 秒の間, 試行回数は 1946495 回で,テイラー展開での誤差は 0.00000051374386744740\n",
      "2 秒の間, 試行回数は 2047043 回で,モンテカルロ法での誤差は 0.00007193321410969844\n",
      "2 秒の間, 試行回数は 5708 回で,マチンの公式での誤差は 0.00000000000000088818\n",
      "ウォリスの公式での値 3.1415923224251823\n",
      "テイラー展開での値 3.1415931673336606\n",
      "モンテカルロ法の値 3.1415207203756834\n",
      "マチンの公式での値 3.141592653589794\n"
     ]
    }
   ],
   "source": [
    "N=10**10\n",
    "wal=1\n",
    "T=2\n",
    "t=time.time()\n",
    "for i in range(1,N):\n",
    "    wal*=(4*i*i)/((2*i+1)*(2*i-1))\n",
    "    s=time.time()\n",
    "    if abs(s-t)>T:\n",
    "        break\n",
    "tay=0\n",
    "t=time.time()\n",
    "for j in range(1,N):\n",
    "    tay+=((-1)**(j+1))/(2*j-1)\n",
    "    s=time.time()\n",
    "    if abs(s-t)>T:\n",
    "        break\n",
    "\n",
    "count,num=0,0\n",
    "t=time.time()\n",
    "for k in range(1,N):\n",
    "    x,y=random.random(),random.random()\n",
    "    num+=1\n",
    "    if x**2+y**2<=1:\n",
    "        count+=1\n",
    "    s=time.time()\n",
    "    if abs(s-t)>T:\n",
    "        break\n",
    "        \n",
    "N=10**10\n",
    "matin=0\n",
    "t=time.time()\n",
    "for n in range(N):\n",
    "    matin+=4*((-1)**n)/((5**(2*n+1))*(2*n+1))\n",
    "    matin-=((-1)**n)/((239**(2*n+1))*(2*n+1))\n",
    "    s=time.time()\n",
    "    if abs(s-t)>T:\n",
    "        break\n",
    "        \n",
    "print(T,'秒の間, 試行回数は',i,'回で,ウォリスの公式での誤差は',f'{abs(math.pi-2*wal):.020f}')\n",
    "print(T,'秒の間, 試行回数は',j,'回で,テイラー展開での誤差は',f'{abs(math.pi-4*tay):.020f}')\n",
    "print(T,'秒の間, 試行回数は',k,'回で,モンテカルロ法での誤差は',f'{abs(math.pi-(4*count)/num):.020f}')\n",
    "print(T,'秒の間, 試行回数は',n,'回で,マチンの公式での誤差は',f'{abs(math.pi-4*matin):.020f}')\n",
    "print(\"ウォリスの公式での値\",2*wal)\n",
    "print(\"テイラー展開での値\",4*tay)\n",
    "print(\"モンテカルロ法の値\",(4*count)/num)\n",
    "print(\"マチンの公式での値\",4*matin)  "
   ]
  },
  {
   "cell_type": "code",
   "execution_count": 17,
   "metadata": {},
   "outputs": [
    {
     "name": "stdout",
     "output_type": "stream",
     "text": [
      "60 秒の間, 試行回数は 75390795 回で,ウォリスの公式での誤差は 0.00000001052353093556\n",
      "60 秒の間, 試行回数は 67976822 回で,テイラー展開での誤差は 0.00000001471064026148\n",
      "60 秒の間, 試行回数は 64209912 回で,モンテカルロ法での誤差は 0.00007986036247942252\n",
      "60 秒の間, 試行回数は 21530 回で,マチンの公式での誤差は 0.00000000000000088818\n",
      "ウォリスの公式での値 3.141592643066262\n",
      "テイラー展開での値 3.141592638879153\n",
      "モンテカルロ法の値 3.1415127932273137\n",
      "マチンの公式での値 3.141592653589794\n"
     ]
    }
   ],
   "source": [
    "N=10**10\n",
    "wal=1\n",
    "T=60\n",
    "t=time.time()\n",
    "for i in range(1,N):\n",
    "    wal*=(4*i*i)/((2*i+1)*(2*i-1))\n",
    "    s=time.time()\n",
    "    if abs(s-t)>T:\n",
    "        break\n",
    "tay=0\n",
    "t=time.time()\n",
    "for j in range(1,N):\n",
    "    tay+=((-1)**(j+1))/(2*j-1)\n",
    "    s=time.time()\n",
    "    if abs(s-t)>T:\n",
    "        break\n",
    "\n",
    "count,num=0,0\n",
    "t=time.time()\n",
    "for k in range(1,N):\n",
    "    x,y=random.random(),random.random()\n",
    "    num+=1\n",
    "    if x**2+y**2<=1:\n",
    "        count+=1\n",
    "    s=time.time()\n",
    "    if abs(s-t)>T:\n",
    "        break\n",
    "        \n",
    "N=10**10\n",
    "matin=0\n",
    "t=time.time()\n",
    "for n in range(N):\n",
    "    matin+=4*((-1)**n)/((5**(2*n+1))*(2*n+1))\n",
    "    matin-=((-1)**n)/((239**(2*n+1))*(2*n+1))\n",
    "    s=time.time()\n",
    "    if abs(s-t)>T:\n",
    "        break\n",
    "        \n",
    "print(T,'秒の間, 試行回数は',i,'回で,ウォリスの公式での誤差は',f'{abs(math.pi-2*wal):.020f}')\n",
    "print(T,'秒の間, 試行回数は',j,'回で,テイラー展開での誤差は',f'{abs(math.pi-4*tay):.020f}')\n",
    "print(T,'秒の間, 試行回数は',k,'回で,モンテカルロ法での誤差は',f'{abs(math.pi-(4*count)/num):.020f}')\n",
    "print(T,'秒の間, 試行回数は',n,'回で,マチンの公式での誤差は',f'{abs(math.pi-4*matin):.020f}')\n",
    "print(\"ウォリスの公式での値\",2*wal)\n",
    "print(\"テイラー展開での値\",4*tay)\n",
    "print(\"モンテカルロ法の値\",(4*count)/num)\n",
    "print(\"マチンの公式での値\",4*matin)  "
   ]
  },
  {
   "cell_type": "markdown",
   "metadata": {},
   "source": [
    "## マチンの公式によるより詳しい円周率の計算\n",
    "\n",
    "マチンの公式の誤差が変わってないのは\n",
    "$$\n",
    "\\text{math.pi}=3.141592653589793\n",
    "$$\n",
    "のせい, math.piもただの近似値である.\n",
    "そこで円周率をちゃんと用意する.(http://www.koubou-kazu.co.jp/kzu/archi/sitanni/ensyuritu.html)"
   ]
  },
  {
   "cell_type": "code",
   "execution_count": 96,
   "metadata": {},
   "outputs": [],
   "source": [
    "A=[0]*10\n",
    "A[0]='3.1415926535 8979323846 2643383279 5028841971 6939937510'.split()\n",
    "A[1]='5820974944 5923078164 0628620899 8628034825 3421170679'.split()\n",
    "A[2]='8214808651 3282306647 0938446095 5058223172 5359408128'.split()\n",
    "A[3]='4811174502 8410270193 8521105559 6446229489 5493038196'.split()\n",
    "A[4]='4428810975 6659334461 2847564823 3786783165 2712019091'.split()\n",
    "A[5]='4564856692 3460348610 4543266482 1339360726 0249141273'.split()\n",
    "A[6]='7245870066 0631558817 4881520920 9628292540 9171536436'.split()\n",
    "A[7]='7892590360 0113305305 4882046652 1384146951 9415116094'.split()\n",
    "A[8]='3305727036 5759591953 0921861173 8193261179 3105118548'.split()\n",
    "A[9]='0744623799 6274956735 1885752724 8912279381 8301194912'.split()"
   ]
  },
  {
   "cell_type": "markdown",
   "metadata": {},
   "source": [
    "マチンの公式でさらに計算してみる (最初は100桁, 制限時間2秒)"
   ]
  },
  {
   "cell_type": "code",
   "execution_count": 97,
   "metadata": {},
   "outputs": [
    {
     "name": "stdout",
     "output_type": "stream",
     "text": [
      "計算値は  3.141592653589793238462643383279502884197169399375105820974944592307816406286208998628034825342117069\n",
      "実際のπは 3.1415926535897932384626433832795028841971693993751058209749445923078164062862089986280348253421170679\n",
      "誤差は -1.1E-99\n"
     ]
    }
   ],
   "source": [
    "from decimal import *\n",
    "myothercontext = Context(prec=100, rounding=ROUND_HALF_DOWN)\n",
    "setcontext(myothercontext)\n",
    "N=10**10\n",
    "matin=Decimal(0)\n",
    "T=2\n",
    "t=time.time()\n",
    "for n in range(N):\n",
    "    matin+=Decimal(4*((-1)**n))/Decimal(((5**(2*n+1))*(2*n+1)))\n",
    "    matin-=Decimal(((-1)**n))/(((239**(2*n+1))*(2*n+1)))\n",
    "    s=time.time()\n",
    "    if abs(s-t)>T:\n",
    "        break\n",
    "s=''\n",
    "for i in range(2):\n",
    "    for a in A[i]:\n",
    "        s+=a\n",
    "print(\"計算値は \",Decimal(4*matin))\n",
    "print(\"実際のπは\",s)\n",
    "print(\"誤差は\",Decimal(s)-Decimal(4*matin))"
   ]
  },
  {
   "cell_type": "markdown",
   "metadata": {},
   "source": [
    "今度は500桁までやってみる. (制限時間60秒)"
   ]
  },
  {
   "cell_type": "code",
   "execution_count": 98,
   "metadata": {},
   "outputs": [
    {
     "name": "stdout",
     "output_type": "stream",
     "text": [
      "計算値は  3.1415926535897932384626433832795028841971693993751058209749445923078164062862089986280348253421170679821480865132823066470938446095505822317253594081284811174502841027019385211055596446229489549303819644288109756659334461284756482337867831652712019091456485669234603486104543266482133936072602491412737245870066063155881748815209209628292540917153643678925903600113305305488204665213841469519415116094330572703657595919530921861173819326117931051185480744623799627495673518857527248912279381830119492\n",
      "実際のπは 3.14159265358979323846264338327950288419716939937510582097494459230781640628620899862803482534211706798214808651328230664709384460955058223172535940812848111745028410270193852110555964462294895493038196442881097566593344612847564823378678316527120190914564856692346034861045432664821339360726024914127372458700660631558817488152092096282925409171536436789259036001133053054882046652138414695194151160943305727036575959195309218611738193261179310511854807446237996274956735188575272489122793818301194912\n",
      "誤差は -8E-500\n"
     ]
    }
   ],
   "source": [
    "from decimal import *\n",
    "myothercontext = Context(prec=500, rounding=ROUND_HALF_DOWN)\n",
    "setcontext(myothercontext)\n",
    "N=10**10\n",
    "matin=Decimal(0)\n",
    "T=60\n",
    "t=time.time()\n",
    "for n in range(N):\n",
    "    matin+=Decimal(4*((-1)**n))/Decimal(((5**(2*n+1))*(2*n+1)))\n",
    "    matin-=Decimal(((-1)**n))/(((239**(2*n+1))*(2*n+1)))\n",
    "    s=time.time()\n",
    "    if abs(s-t)>T:\n",
    "        break\n",
    "s=''\n",
    "for i in range(10):\n",
    "    for a in A[i]:\n",
    "        s+=a\n",
    "print(\"計算値は \",Decimal(4*matin))\n",
    "print(\"実際のπは\",s)\n",
    "print(\"誤差は\",Decimal(s)-Decimal(4*matin))"
   ]
  },
  {
   "cell_type": "markdown",
   "metadata": {},
   "source": [
    "誤差がかなり小さいことがわかる.\n",
    "興味ある人はもっとやって見てもいいかもしれません."
   ]
  },
  {
   "cell_type": "markdown",
   "metadata": {},
   "source": [
    "## 参考文献\n",
    "\n",
    "参考文献とさらなる理解のためのpdf\n",
    "http://www.kurims.kyoto-u.ac.jp/~kenkyubu/kokai-koza/H16-ooura.pdf\n",
    "\n",
    "マチンの公式の証明はwikipediaにありました(あっているか要検証, wikipediaは素直に信じてはいけないので)\n",
    "https://ja.wikipedia.org/wiki/マチンの公式"
   ]
  }
 ],
 "metadata": {
  "kernelspec": {
   "display_name": "python 3.6.3",
   "language": "python",
   "name": "python3.6"
  },
  "language_info": {
   "codemirror_mode": {
    "name": "ipython",
    "version": 3
   },
   "file_extension": ".py",
   "mimetype": "text/x-python",
   "name": "python",
   "nbconvert_exporter": "python",
   "pygments_lexer": "ipython3",
   "version": "3.6.3"
  },
  "toc": {
   "base_numbering": 1,
   "nav_menu": {},
   "number_sections": true,
   "sideBar": true,
   "skip_h1_title": false,
   "title_cell": "Table of Contents",
   "title_sidebar": "Contents",
   "toc_cell": false,
   "toc_position": {},
   "toc_section_display": true,
   "toc_window_display": false
  }
 },
 "nbformat": 4,
 "nbformat_minor": 2
}
