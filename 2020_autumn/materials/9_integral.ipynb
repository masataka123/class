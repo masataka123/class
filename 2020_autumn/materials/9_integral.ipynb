{
 "cells": [
  {
   "cell_type": "markdown",
   "metadata": {},
   "source": [
    "区分求積法の例\n",
    "\n",
    "$D=[0,1] \\times [0,1]$とし, $f(x,y)=x^2+y^2$とする.\n",
    "$$\n",
    "\\max_{(x,y)\\in D} \\left\\{ |\\frac{\\partial f}{\\partial x}(x,y)|, |\\frac{\\partial f}{\\partial y}(x,y)| \\right\\} \n",
    "=\n",
    "\\max_{(x,y)\\in D} \\left\\{ |2x|, |2y| \\right\\} \n",
    "=\n",
    "2\n",
    "$$\n",
    "より, $K_1=2$と取れる.\n",
    "\n",
    "$N$を正の自然数とすると, \n",
    "$I = \\iint_{D} f dxdy, =\\frac{2}{3}$, $\\frac{K_1(b-a)(d-c)\\{ b-a+d-c\\}}{N}=\\frac{4}{N}$,\n",
    "$$\\Sigma_{N}=\n",
    "\\sum_{j=1}^{N}\\sum_{i=1}^{N}f\\left( \\frac{i}{N},\\frac{j}{N}\\right)\n",
    "=\\sum_{j=1}^{N}\\sum_{i=1}^{N}\\frac{i^2+j^2}{N^4}\n",
    "$$\n",
    "であるので, \n",
    "$$\n",
    "|I - \\Sigma_{N}|=\\left|\\frac{2}{3} - \\sum_{j=1}^{N}\\sum_{i=1}^{N}\\frac{i^2+j^2}{N^4} \\right| \\leqq \\frac{4}{N}.\n",
    "$$"
   ]
  },
  {
   "cell_type": "markdown",
   "metadata": {},
   "source": [
    "実際にやって見た."
   ]
  },
  {
   "cell_type": "code",
   "execution_count": 33,
   "metadata": {},
   "outputs": [
    {
     "name": "stdout",
     "output_type": "stream",
     "text": [
      "Nが          1 のときsigma_Nは 2.00000000 であり誤差は -1.3333333333 4/Nの値は 4.0000000000\n",
      "Nが         10 のときsigma_Nは 0.77000000 であり誤差は -0.1033333333 4/Nの値は 0.4000000000\n",
      "Nが        100 のときsigma_Nは 0.67670000 であり誤差は -0.0100333333 4/Nの値は 0.0400000000\n",
      "Nが       1000 のときsigma_Nは 0.66766700 であり誤差は -0.0010003333 4/Nの値は 0.0040000000\n"
     ]
    }
   ],
   "source": [
    "for k in range(4):\n",
    "    N=10**k\n",
    "    sigman=0\n",
    "    for i in range(1,N+1):\n",
    "        for j in range(1,N+1):\n",
    "            sigman+=(i**2+j**2)/N**4\n",
    "    print(\"Nが\",f'{N:10}',\"のときsigma_Nは\", f'{sigman:.08f}', \n",
    "          'であり誤差は', f'{2/3 - sigman:.10f}','4/Nの値は',f'{4/N:.010f}')"
   ]
  },
  {
   "cell_type": "markdown",
   "metadata": {},
   "source": [
    "これ以上計算するにはちょっと工夫が必要で, \n",
    "$$\\Sigma_{N}=\n",
    "\\sum_{j=1}^{N}\\sum_{i=1}^{N}\\frac{i^2+j^2}{N^4}\n",
    "=\\frac{2N^{2}(N+1)(2N+1)}{6N^{4}}\n",
    "$$\n",
    "より計算できる."
   ]
  },
  {
   "cell_type": "code",
   "execution_count": 34,
   "metadata": {},
   "outputs": [
    {
     "name": "stdout",
     "output_type": "stream",
     "text": [
      "Nが          1 のときsigma_Nは 2.00000000 であり誤差は -1.3333333333 4/Nの値は 4.0000000000\n",
      "Nが         10 のときsigma_Nは 0.77000000 であり誤差は -0.1033333333 4/Nの値は 0.4000000000\n",
      "Nが        100 のときsigma_Nは 0.67670000 であり誤差は -0.0100333333 4/Nの値は 0.0400000000\n",
      "Nが       1000 のときsigma_Nは 0.66766700 であり誤差は -0.0010003333 4/Nの値は 0.0040000000\n",
      "Nが      10000 のときsigma_Nは 0.66676667 であり誤差は -0.0001000033 4/Nの値は 0.0004000000\n",
      "Nが     100000 のときsigma_Nは 0.66667667 であり誤差は -0.0000100000 4/Nの値は 0.0000400000\n",
      "Nが    1000000 のときsigma_Nは 0.66666767 であり誤差は -0.0000010000 4/Nの値は 0.0000040000\n",
      "Nが   10000000 のときsigma_Nは 0.66666677 であり誤差は -0.0000001000 4/Nの値は 0.0000004000\n"
     ]
    }
   ],
   "source": [
    "for k in range(8):\n",
    "    N=10**k\n",
    "    sigman=2*(N**2)*(N+1)*(2*N+1)/(6*(N**4))\n",
    "    print(\"Nが\",f'{N:10}',\"のときsigma_Nは\", f'{sigman:.08f}', \n",
    "          'であり誤差は', f'{2/3 - sigman:.10f}','4/Nの値は',f'{4/N:.010f}')"
   ]
  }
 ],
 "metadata": {
  "kernelspec": {
   "display_name": "python 3.6.3",
   "language": "python",
   "name": "python3.6"
  },
  "language_info": {
   "codemirror_mode": {
    "name": "ipython",
    "version": 3
   },
   "file_extension": ".py",
   "mimetype": "text/x-python",
   "name": "python",
   "nbconvert_exporter": "python",
   "pygments_lexer": "ipython3",
   "version": "3.6.3"
  },
  "toc": {
   "base_numbering": 1,
   "nav_menu": {},
   "number_sections": true,
   "sideBar": true,
   "skip_h1_title": false,
   "title_cell": "Table of Contents",
   "title_sidebar": "Contents",
   "toc_cell": false,
   "toc_position": {},
   "toc_section_display": true,
   "toc_window_display": false
  }
 },
 "nbformat": 4,
 "nbformat_minor": 2
}
